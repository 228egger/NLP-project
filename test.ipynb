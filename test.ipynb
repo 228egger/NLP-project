{
 "cells": [
  {
   "cell_type": "code",
   "execution_count": 5,
   "metadata": {},
   "outputs": [
    {
     "data": {
      "application/vnd.jupyter.widget-view+json": {
       "model_id": "d0d488379e48479d8d4cbb6ca41695ef",
       "version_major": 2,
       "version_minor": 0
      },
      "text/plain": [
       "tokenizer_config.json:   0%|          | 0.00/26.0 [00:00<?, ?B/s]"
      ]
     },
     "metadata": {},
     "output_type": "display_data"
    },
    {
     "data": {
      "application/vnd.jupyter.widget-view+json": {
       "model_id": "62aced557bc243b8ba42d07494a7fb9f",
       "version_major": 2,
       "version_minor": 0
      },
      "text/plain": [
       "vocab.json:   0%|          | 0.00/1.04M [00:00<?, ?B/s]"
      ]
     },
     "metadata": {},
     "output_type": "display_data"
    },
    {
     "data": {
      "application/vnd.jupyter.widget-view+json": {
       "model_id": "b0784f80f1b74742adc29b63d95f5a6d",
       "version_major": 2,
       "version_minor": 0
      },
      "text/plain": [
       "merges.txt:   0%|          | 0.00/456k [00:00<?, ?B/s]"
      ]
     },
     "metadata": {},
     "output_type": "display_data"
    },
    {
     "data": {
      "application/vnd.jupyter.widget-view+json": {
       "model_id": "872a4e1bcaa541e5bec7c3f46d8ab7d5",
       "version_major": 2,
       "version_minor": 0
      },
      "text/plain": [
       "tokenizer.json:   0%|          | 0.00/1.36M [00:00<?, ?B/s]"
      ]
     },
     "metadata": {},
     "output_type": "display_data"
    },
    {
     "data": {
      "application/vnd.jupyter.widget-view+json": {
       "model_id": "96de243e7ac74107a202c2b4c82eff38",
       "version_major": 2,
       "version_minor": 0
      },
      "text/plain": [
       "config.json:   0%|          | 0.00/666 [00:00<?, ?B/s]"
      ]
     },
     "metadata": {},
     "output_type": "display_data"
    },
    {
     "data": {
      "application/vnd.jupyter.widget-view+json": {
       "model_id": "661ecabce65b4aed97e122cc489f8b80",
       "version_major": 2,
       "version_minor": 0
      },
      "text/plain": [
       "model.safetensors:   0%|          | 0.00/3.25G [00:00<?, ?B/s]"
      ]
     },
     "metadata": {},
     "output_type": "display_data"
    },
    {
     "data": {
      "application/vnd.jupyter.widget-view+json": {
       "model_id": "e668ec514b42433185fb1ce2e1032a4c",
       "version_major": 2,
       "version_minor": 0
      },
      "text/plain": [
       "generation_config.json:   0%|          | 0.00/124 [00:00<?, ?B/s]"
      ]
     },
     "metadata": {},
     "output_type": "display_data"
    },
    {
     "name": "stdout",
     "output_type": "stream",
     "text": [
      "Starting training on small dataset...\n"
     ]
    },
    {
     "name": "stderr",
     "output_type": "stream",
     "text": [
      "/opt/notebooks/sports-tracking-tystem/.venv/lib/python3.11/site-packages/torch/nn/parallel/_functions.py:71: UserWarning: Was asked to gather along dimension 0, but all input tensors were scalars; will instead unsqueeze and return a vector.\n",
      "  warnings.warn(\n"
     ]
    },
    {
     "data": {
      "text/html": [
       "\n",
       "    <div>\n",
       "      \n",
       "      <progress value='250' max='250' style='width:300px; height:20px; vertical-align: middle;'></progress>\n",
       "      [250/250 05:59, Epoch 1/1]\n",
       "    </div>\n",
       "    <table border=\"1\" class=\"dataframe\">\n",
       "  <thead>\n",
       " <tr style=\"text-align: left;\">\n",
       "      <th>Step</th>\n",
       "      <th>Training Loss</th>\n",
       "      <th>Validation Loss</th>\n",
       "    </tr>\n",
       "  </thead>\n",
       "  <tbody>\n",
       "    <tr>\n",
       "      <td>50</td>\n",
       "      <td>0.571400</td>\n",
       "      <td>0.538517</td>\n",
       "    </tr>\n",
       "    <tr>\n",
       "      <td>100</td>\n",
       "      <td>0.531700</td>\n",
       "      <td>0.507674</td>\n",
       "    </tr>\n",
       "    <tr>\n",
       "      <td>150</td>\n",
       "      <td>0.511400</td>\n",
       "      <td>0.486699</td>\n",
       "    </tr>\n",
       "    <tr>\n",
       "      <td>200</td>\n",
       "      <td>0.490900</td>\n",
       "      <td>0.474364</td>\n",
       "    </tr>\n",
       "    <tr>\n",
       "      <td>250</td>\n",
       "      <td>0.491500</td>\n",
       "      <td>0.469081</td>\n",
       "    </tr>\n",
       "  </tbody>\n",
       "</table><p>"
      ],
      "text/plain": [
       "<IPython.core.display.HTML object>"
      ]
     },
     "metadata": {},
     "output_type": "display_data"
    },
    {
     "name": "stderr",
     "output_type": "stream",
     "text": [
      "/opt/notebooks/sports-tracking-tystem/.venv/lib/python3.11/site-packages/torch/nn/parallel/_functions.py:71: UserWarning: Was asked to gather along dimension 0, but all input tensors were scalars; will instead unsqueeze and return a vector.\n",
      "  warnings.warn(\n",
      "/opt/notebooks/sports-tracking-tystem/.venv/lib/python3.11/site-packages/torch/nn/parallel/_functions.py:71: UserWarning: Was asked to gather along dimension 0, but all input tensors were scalars; will instead unsqueeze and return a vector.\n",
      "  warnings.warn(\n",
      "/opt/notebooks/sports-tracking-tystem/.venv/lib/python3.11/site-packages/torch/nn/parallel/_functions.py:71: UserWarning: Was asked to gather along dimension 0, but all input tensors were scalars; will instead unsqueeze and return a vector.\n",
      "  warnings.warn(\n",
      "/opt/notebooks/sports-tracking-tystem/.venv/lib/python3.11/site-packages/torch/nn/parallel/_functions.py:71: UserWarning: Was asked to gather along dimension 0, but all input tensors were scalars; will instead unsqueeze and return a vector.\n",
      "  warnings.warn(\n"
     ]
    },
    {
     "name": "stdout",
     "output_type": "stream",
     "text": [
      "Training completed!\n"
     ]
    }
   ],
   "source": [
    "import torch\n",
    "from transformers import GPT2Tokenizer, GPT2LMHeadModel, Trainer, TrainingArguments, DataCollatorForLanguageModeling\n",
    "from datasets import load_dataset\n",
    "from torch.utils.data import Dataset\n",
    "from sklearn.metrics import mean_absolute_error\n",
    "import re\n",
    "\n",
    "# === Шаг 1. Загрузка предобученной модели GPT-2 ===\n",
    "model_name = \"gpt2-large\"\n",
    "tokenizer = GPT2Tokenizer.from_pretrained(model_name)\n",
    "model = GPT2LMHeadModel.from_pretrained(model_name)\n",
    "\n",
    "# Установка pad_token\n",
    "tokenizer.pad_token = tokenizer.eos_token\n",
    "\n",
    "# Устройство для обучения\n",
    "device = torch.device(\"cuda\" if torch.cuda.is_available() else \"cpu\")\n",
    "model.to(device)\n",
    "\n",
    "# === Шаг 2. Загрузка и сэмплирование небольшого датасета ===\n",
    "dataset = load_dataset(\"ashraq/movielens_ratings\", split=\"train\")\n",
    "\n",
    "# Берем небольшой подмножество\n",
    "n = 10000\n",
    "small_dataset = dataset.select(range(n))\n",
    "train_dataset = small_dataset.select(range(int(0.8 * n)))\n",
    "eval_dataset = small_dataset.select(range(int(0.8 * n), n))\n",
    "\n",
    "# === Шаг 3. Преобразование датасета для обучения модели ===\n",
    "class MovieLensDataset(Dataset):\n",
    "    def __init__(self, dataset, tokenizer, max_length=128):\n",
    "        self.dataset = dataset\n",
    "        self.tokenizer = tokenizer\n",
    "        self.max_length = max_length\n",
    "\n",
    "    def __len__(self):\n",
    "        return len(self.dataset)\n",
    "\n",
    "    def __getitem__(self, idx):\n",
    "        row = self.dataset[idx]\n",
    "        user_id = row[\"user_id\"]\n",
    "        movie_title = row[\"title\"]\n",
    "        genres = row[\"genres\"]\n",
    "        rating = row[\"rating\"]\n",
    "\n",
    "        # Формируем prompt для модели\n",
    "        prompt = (\n",
    "            f\"User ID: {user_id}\\n\"\n",
    "            f\"Movie title: {movie_title}\\n\"\n",
    "            f\"Genres: {genres}\\n\"\n",
    "            \"Predict the user's rating (1-5): Answer only with a number between 1 and 5.\"\n",
    "        )\n",
    "        target = f\" {rating}\"\n",
    "\n",
    "        # Токенизация prompt и целевого значения\n",
    "        inputs = self.tokenizer(\n",
    "            prompt,\n",
    "            truncation=True,\n",
    "            max_length=self.max_length,\n",
    "            padding=\"max_length\",\n",
    "            return_tensors=\"pt\",\n",
    "        )\n",
    "        labels = self.tokenizer(\n",
    "            target,\n",
    "            truncation=True,\n",
    "            max_length=self.max_length,\n",
    "            padding=\"max_length\",\n",
    "            return_tensors=\"pt\",\n",
    "        )[\"input_ids\"]\n",
    "\n",
    "        # Добавляем метки в inputs\n",
    "        inputs[\"labels\"] = labels.squeeze(0)\n",
    "        return {key: val.squeeze(0) for key, val in inputs.items()}\n",
    "\n",
    "# Преобразуем датасет для обучения\n",
    "train_dataset = MovieLensDataset(train_dataset, tokenizer)\n",
    "eval_dataset = MovieLensDataset(eval_dataset, tokenizer)\n",
    "\n",
    "# === Шаг 4. Настройка обучения ===\n",
    "training_args = TrainingArguments(\n",
    "    output_dir=\"./results\",\n",
    "    num_train_epochs=1,  # Уменьшаем до 1 эпохи\n",
    "    per_device_train_batch_size=4,\n",
    "    save_steps=50,  # Сохранение модели каждые 10 шагов\n",
    "    save_total_limit=2,\n",
    "    logging_dir=\"./logs\",\n",
    "    logging_steps=25,  # Логирование каждые 5 шагов\n",
    "    eval_strategy=\"steps\",\n",
    "    eval_steps=50,  # Оценка каждые 10 шагов\n",
    "    report_to=\"none\",\n",
    ")\n",
    "\n",
    "data_collator = DataCollatorForLanguageModeling(\n",
    "    tokenizer=tokenizer, mlm=False\n",
    ")\n",
    "\n",
    "# === Шаг 5. Обучение модели ===\n",
    "trainer = Trainer(\n",
    "    model=model,\n",
    "    args=training_args,\n",
    "    train_dataset=train_dataset,\n",
    "    eval_dataset=eval_dataset,\n",
    "    data_collator=data_collator,\n",
    ")\n",
    "\n",
    "print(\"Starting training on small dataset...\")\n",
    "trainer.train()\n",
    "print(\"Training completed!\")"
   ]
  },
  {
   "cell_type": "code",
   "execution_count": 6,
   "metadata": {},
   "outputs": [],
   "source": [
    "# === Шаг 6. Функция для предсказания рейтинга ===\n",
    "from tqdm import tqdm\n",
    "def clean_prediction(prediction):\n",
    "    \"\"\"Извлечение числа из строки\"\"\"\n",
    "    match = re.search(r\"\\b[1-5]\\b\", prediction)\n",
    "    return int(match.group(0)) if match else None\n",
    "\n",
    "def predict_from_eval_dataset(eval_dataset):\n",
    "    true_ratings = []\n",
    "    predicted_ratings = []\n",
    "\n",
    "    for idx in tqdm(range(len(eval_dataset.dataset))):\n",
    "        row = eval_dataset.dataset[idx]\n",
    "        user_id = row[\"user_id\"]\n",
    "        movie_title = row[\"title\"]\n",
    "        genres = row[\"genres\"]\n",
    "        true_rating = row[\"rating\"]\n",
    "\n",
    "        prompt = (\n",
    "            f\"User ID: {user_id}\\n\"\n",
    "            f\"Movie title: {movie_title}\\n\"\n",
    "            f\"Genres: {genres}\\n\"\n",
    "            \"Predict the user's rating (1-5): Answer only with a number between 1 and 5.\"\n",
    "        )\n",
    "        inputs = tokenizer.encode(prompt, return_tensors=\"pt\").to(device)\n",
    "        outputs = model.generate(\n",
    "            inputs,\n",
    "            max_new_tokens=5,  # Ограничиваем длину только предсказания\n",
    "            pad_token_id=tokenizer.pad_token_id\n",
    "        )\n",
    "        predicted_rating = tokenizer.decode(outputs[0], skip_special_tokens=True)\n",
    "\n",
    "        # Очищаем вывод модели\n",
    "        predicted_rating = clean_prediction(predicted_rating)\n",
    "        if predicted_rating is not None:\n",
    "            true_ratings.append(true_rating)\n",
    "            predicted_ratings.append(predicted_rating)\n",
    "        else:\n",
    "            print(f\"Invalid prediction: {predicted_rating}, skipping this example.\")\n",
    "    \n",
    "    return true_ratings, predicted_ratings"
   ]
  },
  {
   "cell_type": "code",
   "execution_count": 7,
   "metadata": {},
   "outputs": [
    {
     "name": "stderr",
     "output_type": "stream",
     "text": [
      "  0%|          | 0/8000 [00:00<?, ?it/s]The attention mask is not set and cannot be inferred from input because pad token is same as eos token. As a consequence, you may observe unexpected behavior. Please pass your input's `attention_mask` to obtain reliable results.\n",
      "100%|██████████| 8000/8000 [13:10<00:00, 10.12it/s]\n"
     ]
    },
    {
     "name": "stdout",
     "output_type": "stream",
     "text": [
      "Mean Absolute Error (MAE) for train: 2.5455\n"
     ]
    },
    {
     "name": "stderr",
     "output_type": "stream",
     "text": [
      "100%|██████████| 2000/2000 [03:17<00:00, 10.11it/s]"
     ]
    },
    {
     "name": "stdout",
     "output_type": "stream",
     "text": [
      "Mean Absolute Error (MAE) for val: 2.58025\n"
     ]
    },
    {
     "name": "stderr",
     "output_type": "stream",
     "text": [
      "\n"
     ]
    }
   ],
   "source": [
    "# === Шаг 7. Тестирование модели и расчет метрики ===\n",
    "true_ratings, predicted_ratings = predict_from_eval_dataset(train_dataset)\n",
    "\n",
    "# Расчет метрики MAE\n",
    "if true_ratings and predicted_ratings:\n",
    "    mae = mean_absolute_error(true_ratings, predicted_ratings)\n",
    "    print(f\"Mean Absolute Error (MAE) for train: {mae}\")\n",
    "else:\n",
    "    print(\"No valid predictions were made.\")\n",
    "\n",
    "# === Шаг 7. Тестирование модели и расчет метрики ===\n",
    "true_ratings, predicted_ratings = predict_from_eval_dataset(eval_dataset)\n",
    "\n",
    "# Расчет метрики MAE\n",
    "if true_ratings and predicted_ratings:\n",
    "    mae = mean_absolute_error(true_ratings, predicted_ratings)\n",
    "    print(f\"Mean Absolute Error (MAE) for val: {mae}\")\n",
    "else:\n",
    "    print(\"No valid predictions were made.\")"
   ]
  },
  {
   "cell_type": "code",
   "execution_count": null,
   "metadata": {},
   "outputs": [],
   "source": []
  }
 ],
 "metadata": {
  "kernelspec": {
   "display_name": ".venv",
   "language": "python",
   "name": "python3"
  },
  "language_info": {
   "codemirror_mode": {
    "name": "ipython",
    "version": 3
   },
   "file_extension": ".py",
   "mimetype": "text/x-python",
   "name": "python",
   "nbconvert_exporter": "python",
   "pygments_lexer": "ipython3",
   "version": "3.11.5"
  }
 },
 "nbformat": 4,
 "nbformat_minor": 2
}
